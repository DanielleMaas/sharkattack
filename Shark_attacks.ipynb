{
  "nbformat": 4,
  "nbformat_minor": 0,
  "metadata": {
    "colab": {
      "provenance": []
    },
    "kernelspec": {
      "name": "python3",
      "display_name": "Python 3"
    },
    "language_info": {
      "name": "python"
    }
  },
  "cells": [
    {
      "cell_type": "code",
      "execution_count": 1,
      "metadata": {
        "id": "4Vxy14Jr_VIg"
      },
      "outputs": [],
      "source": [
        "import pandas as pd \n",
        "import numpy as np\n",
        "import matplotlib.pyplot as plt"
      ]
    },
    {
      "cell_type": "code",
      "source": [
        "df_original = pd.read_csv('https://raw.githubusercontent.com/DanielleMaas/sharkattack/main/attacks.csv', encoding = 'latin-1')\n",
        "df = df_original.copy()\n",
        "dataframe = df.iloc[:6302]"
      ],
      "metadata": {
        "id": "XjyaFOr__Vf5"
      },
      "execution_count": 246,
      "outputs": []
    },
    {
      "cell_type": "markdown",
      "source": [
        "Question 1: What are the most dangerous types of sharks to humans? "
      ],
      "metadata": {
        "id": "jtntMhhwANLq"
      }
    },
    {
      "cell_type": "code",
      "source": [
        "dataframe['Species '].value_counts().head(10)"
      ],
      "metadata": {
        "colab": {
          "base_uri": "https://localhost:8080/"
        },
        "id": "XG_cB6LUAs9e",
        "outputId": "4850b3fb-f1ae-4b7b-80dc-c5999c2f9771"
      },
      "execution_count": 263,
      "outputs": [
        {
          "output_type": "execute_result",
          "data": {
            "text/plain": [
              "White shark                                           163\n",
              "Shark involvement prior to death was not confirmed    105\n",
              "Invalid                                               102\n",
              "Shark involvement not confirmed                        88\n",
              "Tiger shark                                            73\n",
              "Shark involvement prior to death unconfirmed           68\n",
              "Bull shark                                             52\n",
              "6' shark                                               40\n",
              "4' shark                                               40\n",
              "1.8 m [6'] shark                                       35\n",
              "Name: Species , dtype: int64"
            ]
          },
          "metadata": {},
          "execution_count": 263
        }
      ]
    },
    {
      "cell_type": "code",
      "source": [
        "whiteshark = dataframe.loc[:,'Species '] == 'White shark'\n",
        "tigershark = dataframe.loc[:,'Species '] == 'Tiger shark'\n",
        "bullshark = dataframe.loc[:,'Species '] == 'Bull shark'\n",
        "\n",
        "allwhiteshark = dataframe[whiteshark].loc[:, 'Species '].count()\n",
        "alltigershark = dataframe[tigershark].loc[:, 'Species '].count()\n",
        "allbullshark = dataframe[bullshark].loc[:, 'Species '].count()\n",
        "\n",
        "attacksbytopthree = [allwhiteshark, alltigershark, allbullshark]\n",
        "typesofsharks = [\"White shark\", \"Tiger shark\", \"Bull shark\"]\n",
        "\n",
        "newdf = pd.DataFrame(attacksbytopthree)\n",
        "newdf[\"Types\"] = typesofsharks"
      ],
      "metadata": {
        "id": "rrxIFXRtGM7I"
      },
      "execution_count": 259,
      "outputs": []
    },
    {
      "cell_type": "code",
      "source": [
        "numberofattacks = newdf.iloc[:, 0]\n",
        "typeofshark = newdf.iloc[:,1]\n",
        "\n",
        "fig, ax = plt.subplots()\n",
        "plt.bar(typeofshark, numberofattacks)\n",
        "plt.ylabel('Number of attacks')\n",
        "plt.xlabel('Type of shark')\n",
        "plt.title('Number of attacks per type of shark')\n",
        "ax.grid(True, axis=\"y\")\n",
        "plt.show()"
      ],
      "metadata": {
        "colab": {
          "base_uri": "https://localhost:8080/",
          "height": 295
        },
        "id": "7Fapef9zKRra",
        "outputId": "01145e96-6dbe-47bc-e9c7-885fbe8cda1e"
      },
      "execution_count": 253,
      "outputs": [
        {
          "output_type": "display_data",
          "data": {
            "text/plain": [
              "<Figure size 432x288 with 1 Axes>"
            ],
            "image/png": "[encoded data removed]"
          },
          "metadata": {
            "needs_background": "light"
          }
        }
      ]
    },
    {
      "cell_type": "markdown",
      "source": [
        "Conclusion: There are far more attacks by White sharks than other type of sharks. \n",
        "\n",
        "However, some decisions might have had influence on this result. First I looked at the values with the most number of occurrences. There were three actual types listed in the top ten: White shark, Tiger shark and Bull shark. The rest were descriptions (shark is 2 m) or Invalids. This doesn't mean that the rest of the data had not added value, but the three mentioned types of sharks had enough results to give a somewhat reliable result."
      ],
      "metadata": {
        "id": "OIxfa7aFa-_J"
      }
    },
    {
      "cell_type": "markdown",
      "source": [
        "Question 2: Are children more likely to be attacked by sharks?"
      ],
      "metadata": {
        "id": "X8ReBwBiMQEd"
      }
    },
    {
      "cell_type": "code",
      "source": [
        "agedf = dataframe.loc[ : 6302, \"Age\"]"
      ],
      "metadata": {
        "id": "cpSViBKXl2ta"
      },
      "execution_count": 11,
      "outputs": []
    },
    {
      "cell_type": "code",
      "source": [
        "agedf = agedf.replace(\"23 & 20\", np.nan) \n",
        "agedf = agedf.replace(\"60's\", np.nan) \n",
        "agedf = agedf.replace(\" 28\", 28) \n",
        "agedf = agedf.replace(\"7      &    31\", np.nan) \n",
        "agedf = agedf.replace(\"13 or 14\", 13) \n",
        "agedf = agedf.replace(\"16 to 18\", np.nan) \n",
        "agedf = agedf.replace(\"30 to 32\", 30) \n",
        "agedf = agedf.replace(\"20?\", 20) \n",
        "agedf = agedf.replace(\"mid-30s\", 30)\n",
        "agedf = agedf.replace(\"2 1/2\", 3) \n",
        "agedf = agedf.replace(\"29, 23 & 30\", 29) \n",
        "agedf = agedf.replace(\"28 & 26\", 28)\n",
        "agedf = agedf.replace(\"25 to 35\", 25) \n",
        "agedf = agedf.replace(\"30 & 32\", 30) \n",
        "agedf = agedf.replace(\"2½\", 3) \n",
        "agedf = agedf.replace(\"28, 23 & 30\", 28) \n",
        "agedf = agedf.replace(\"25 or 28\", 25) \n",
        "agedf = agedf.replace(\"32 & 30\", 32) \n",
        "agedf = agedf.replace(\"31 or 33\", 31)\n",
        "agedf = agedf.replace(\"30 or 36\", 30) \n",
        "agedf = agedf.replace(\"23 & 26\", 23) \n",
        "agedf = agedf.replace(\"28, 23 & 30\", 28) \n",
        "agedf = agedf.replace(\"25 or 28\", 25) \n",
        "agedf = agedf.replace(\"21, 34,24 & 35\", 21) \n",
        "agedf = agedf.replace(\"21 or 26\", 21) \n",
        "agedf = agedf.replace(\"21 & ?\", 21)  \n",
        "agedf = agedf.replace(\"33 & 37\", 33) \n",
        "agedf = agedf.replace(\"33 & 26\", 33) \n",
        "agedf = agedf.replace(\"20 \", 20) \n",
        "agedf = agedf.replace(\"2 to 3 months\", 0)  \n",
        "agedf = agedf.replace(\"46 & 34\", 46) \n",
        "agedf = agedf.replace(\"50 & 30\", 50) \n",
        "agedf = agedf.replace(\"60s\", 60) \n",
        "agedf = agedf.replace(\"37, 67, 35, 27,  ? & 27\", 37)  \n",
        "agedf = agedf.replace(\"36 & 26\", 36) \n",
        "agedf = agedf.replace(\"36 & 23\", 36)   \n",
        "agedf = agedf.replace(\"6½\", 7)\n",
        "agedf = agedf.replace(\"34 & 19\", 34)  \n",
        "agedf = agedf.replace(\"33 or 37\", 33)  \n",
        "agedf = agedf.replace(\"\\\"young\\\"\", np.nan)  \n",
        "agedf = agedf.replace(\"(adult)\", np.nan) \n",
        "agedf = agedf.replace(\"10 or 12\", 10)\n",
        "agedf = agedf.replace(\"12 or 13\", 12) \n",
        "agedf = agedf.replace(\"13 or 18\", 13)  \n",
        "agedf = agedf.replace(\"17 & 16\", 17)  \n",
        "agedf = agedf.replace(\"17 & 35\", np.nan)    \n",
        "agedf = agedf.replace(\"18 months\", 0)\n",
        "agedf = agedf.replace(\"\\\"middle-age\\\"\", np.nan)\n",
        "agedf = agedf.replace(\"18 to 22\", 18)  \n",
        "agedf = agedf.replace(\"18 to 20\", 18) \n",
        "agedf = agedf.replace(\" 43\", 43)\n",
        "agedf = agedf.replace(\" 30\", 30)\n",
        "agedf = agedf.replace(\"  \", np.nan)\n",
        "agedf = agedf.replace(\"18 or 20\", 18)\n",
        "agedf = agedf.replace(\"9 & 12\", 9)\n",
        "agedf = agedf.replace(\"Elderly\", np.nan)\n",
        "agedf = agedf.replace(\"mid-20s\", 20)\n",
        "agedf = agedf.replace(\"X\", np.nan)\n",
        "agedf = agedf.replace(\"adult\", np.nan)\n",
        "agedf = agedf.replace(\"MAKE LINE GREEN\", np.nan)\n",
        "agedf = agedf.replace(\"Teens\", np.nan)\n",
        "agedf = agedf.replace(\"Both 11\", 11)\n",
        "agedf = agedf.replace(\"Ca. 33\", 33)\n",
        "agedf = agedf.replace(\"F\", np.nan)\n",
        "agedf = agedf.replace(\"?    &   14\", 14)\n",
        "agedf = agedf.replace(\"? & 19\", 19)\n",
        "agedf = agedf.replace(\"A.M.\", np.nan)\n",
        "agedf = agedf.replace(\"9 months\", 0)\n",
        "agedf = agedf.replace(\"9 or 10\", 9)\n",
        "agedf = agedf.replace(\">50\", 50)\n",
        "agedf = agedf.replace(\"20s\", 20)\n",
        "agedf = agedf.replace(\"Teen\", np.nan)\n",
        "agedf = agedf.replace(\"30s\", 30)\n",
        "agedf = agedf.replace(\"teen\", np.nan)\n",
        "agedf = agedf.replace(\"40s\", 40)\n",
        "agedf = agedf.replace(\"50s\", 50)\n",
        "agedf = agedf.replace(\"young\", np.nan)\n",
        "agedf = agedf.replace(\"8 or 10\", 80)\n",
        "agedf = agedf.replace(\"7 or 8\", 7)\n",
        "agedf = agedf.dropna()"
      ],
      "metadata": {
        "id": "mGKXNWoYW4Id"
      },
      "execution_count": 12,
      "outputs": []
    },
    {
      "cell_type": "code",
      "source": [
        "tonumericvalue = pd.to_numeric(agedf.loc[:], errors='coerce')\n",
        "children = tonumericvalue.loc[:] <= 18\n",
        "adults = tonumericvalue.loc[:] > 18\n",
        "\n",
        "childrencount = children.value_counts()\n",
        "adultscount = adults.value_counts()\n",
        "\n",
        "childrenadultcounts = [childrencount, adultscount]\n",
        "Category = [\"Children\", \"Adults\"]\n",
        "\n",
        "attacksbyagegroupdf = pd.DataFrame(childrenadultcounts)\n",
        "attacksbyagegroupdf[\"Category\"] = Category"
      ],
      "metadata": {
        "id": "x6LntS61rw08"
      },
      "execution_count": 14,
      "outputs": []
    },
    {
      "cell_type": "code",
      "source": [
        "agegroup = attacksbyagegroupdf.iloc[:, 1]\n",
        "numberofattacks2 = attacksbyagegroupdf.iloc[:,2]\n",
        "\n",
        "fig, ax = plt.subplots()\n",
        "plt.bar(numberofattacks2, agegroup)\n",
        "plt.ylabel('Number of attacks')\n",
        "plt.xlabel('Age group')\n",
        "plt.title('Number of attacks per age group')\n",
        "ax.grid(True, axis=\"y\")\n",
        "plt.show()"
      ],
      "metadata": {
        "colab": {
          "base_uri": "https://localhost:8080/",
          "height": 295
        },
        "id": "csItU2f7sdA4",
        "outputId": "8ca641ed-a3a4-45f1-8c57-7a1ff395603d"
      },
      "execution_count": 265,
      "outputs": [
        {
          "output_type": "display_data",
          "data": {
            "text/plain": [
              "<Figure size 432x288 with 1 Axes>"
            ],
            "image/png": "[encoded data removed]"
          },
          "metadata": {
            "needs_background": "light"
          }
        }
      ]
    },
    {
      "cell_type": "markdown",
      "source": [
        "Conclusion: More adults than children were attacked by sharks. \n",
        "\n",
        "The following things could have created a bias: \n",
        "1. In the data a child is defined as someone who is younger than 18 years old. Setting it to 10, 16 or 21 would have created a different result. \n",
        "2. All of the non numerical data has been replaced in the following ways: \n",
        "\n",
        "\n",
        "*   If age looked like \"18 & 20\" the first age was kept and the second was dropped even though these are technically two different attacks. However, both persons fall in the Adults group anyhow. \n",
        "*   If age looked like \"9 & 38\" the value was dropped entirely. The ages fall under different groups.  \n",
        "*   If age contained a value like \"young\" it was dropped as well, because you can't know for certain what the person who entered this data considers as \"young\". It could be a child or a younger adult. "
      ],
      "metadata": {
        "id": "frJB8jBFdr1x"
      }
    },
    {
      "cell_type": "markdown",
      "source": [
        "Question 3: Are shark attacks where sharks were provoked more or less dangerous?"
      ],
      "metadata": {
        "id": "auu6-wUutMkj"
      }
    },
    {
      "cell_type": "code",
      "source": [
        "provokeddf = dataframe.iloc[ : 6302, [3, 12]]\n",
        "\n",
        "provokeddf = provokeddf.replace(\" N\", np.nan)\n",
        "provokeddf = provokeddf.replace(\"UNKNOWN\", np.nan)\n",
        "provokeddf = provokeddf.replace(\"2017\", np.nan)\n",
        "provokeddf = provokeddf.replace(\"M\", np.nan)\n",
        "provokeddf = provokeddf.replace(\"y\", \"Y\")\n",
        "provokeddf = provokeddf.replace(\"N \", np.nan)\n",
        "provokeddf = provokeddf.replace(\"N\", np.nan)\n",
        "provokeddf = provokeddf.dropna()\n",
        "\n",
        "provokedyes = provokeddf[( provokeddf['Type'] == \"Provoked\") & (provokeddf['Fatal (Y/N)'] == \"Y\")]\n",
        "provokedno = provokeddf[( provokeddf['Type'] == \"Unprovoked\") & (provokeddf['Fatal (Y/N)'] == \"Y\")]\n",
        "\n",
        "fatalandprovoked = provokedyes[\"Fatal (Y/N)\"].value_counts()\n",
        "fatalandnotprovoked = provokedno[\"Fatal (Y/N)\"].value_counts()\n",
        "\n",
        "dataprovoked = [fatalandprovoked, fatalandnotprovoked]\n",
        "dfprovoke = pd.DataFrame(dataprovoked)\n",
        "Category = [\"Provoked\", \"Unprovoked\"]\n",
        "dfprovoke[\"Category\"] = Category"
      ],
      "metadata": {
        "id": "K0gkHFzItPDr"
      },
      "execution_count": 114,
      "outputs": []
    },
    {
      "cell_type": "code",
      "source": [
        "numberoffatalattacks = dfprovoke.iloc[:, 0]\n",
        "provokedorunprovoked = dfprovoke.iloc[:, 1]\n",
        "\n",
        "plt.bar(provokedorunprovoked, numberoffatalattacks)\n",
        "plt.ylabel('Number of fatal attacks')\n",
        "plt.title('Number of fatal attacks provoked and unprovoked')\n",
        "plt.show()"
      ],
      "metadata": {
        "colab": {
          "base_uri": "https://localhost:8080/",
          "height": 281
        },
        "id": "3XrLqHCFLEZx",
        "outputId": "7c5e6e9e-2323-4adf-9c7d-90a3c6833728"
      },
      "execution_count": 268,
      "outputs": [
        {
          "output_type": "display_data",
          "data": {
            "text/plain": [
              "<Figure size 432x288 with 1 Axes>"
            ],
            "image/png": "[encoded data removed]"
          },
          "metadata": {
            "needs_background": "light"
          }
        }
      ]
    },
    {
      "cell_type": "markdown",
      "source": [
        "Conclusion: Of all the attacks that turned out fatal (so per definition more dangerous than other attacks), the vast majority was unprovoked. </br>\n",
        "\n",
        "There only filters that were applied were: \n",
        "1. Attack was fatal\n",
        "2. Attack was provoked or unprovoked\n",
        "\n",
        "Empty values were dropped. Values in the Fatal column that contained a clear answer but in a different notation where replaced (y (yes) become Y (Yes)), so that I could use the same value (Y) for filtering. The data was not altered in any other way."
      ],
      "metadata": {
        "id": "AkPHkOkrgI7P"
      }
    },
    {
      "cell_type": "markdown",
      "source": [
        "Question 4: Are certain activities more likely to result in a shark attack? "
      ],
      "metadata": {
        "id": "DR3iHY6yLh1q"
      }
    },
    {
      "cell_type": "code",
      "source": [
        "activitiesdf = dataframe.iloc[: 6302, [7]]"
      ],
      "metadata": {
        "id": "Idvxss-KLnTo"
      },
      "execution_count": 300,
      "outputs": []
    },
    {
      "cell_type": "code",
      "source": [
        "newdf2 = activitiesdf.value_counts()\n",
        "activitydf = pd.DataFrame(newdf2)\n",
        "activitydf[\"Count\"] = activitiesdf['Activity'].value_counts()\n",
        "activitydf = activitydf.reset_index()\n",
        "activitydf = activitydf.head(4)\n",
        "activitydf"
      ],
      "metadata": {
        "colab": {
          "base_uri": "https://localhost:8080/",
          "height": 175
        },
        "id": "w15bAfD0QnHS",
        "outputId": "e004357c-2ac8-4669-f71f-04ce269072bb"
      },
      "execution_count": 294,
      "outputs": [
        {
          "output_type": "execute_result",
          "data": {
            "text/plain": [
              "          index   0  Count\n",
              "0       Surfing NaN    971\n",
              "1      Swimming NaN    869\n",
              "2       Fishing NaN    431\n",
              "3  Spearfishing NaN    333"
            ],
            "text/html": [
              "\n",
              "  <div id=\"df-2df7a69b-a6b6-48d5-8374-d2a6223be2c5\">\n",
              "    <div class=\"colab-df-container\">\n",
              "      <div>\n",
              "<style scoped>\n",
              "    .dataframe tbody tr th:only-of-type {\n",
              "        vertical-align: middle;\n",
              "    }\n",
              "\n",
              "    .dataframe tbody tr th {\n",
              "        vertical-align: top;\n",
              "    }\n",
              "\n",
              "    .dataframe thead th {\n",
              "        text-align: right;\n",
              "    }\n",
              "</style>\n",
              "<table border=\"1\" class=\"dataframe\">\n",
              "  <thead>\n",
              "    <tr style=\"text-align: right;\">\n",
              "      <th></th>\n",
              "      <th>index</th>\n",
              "      <th>0</th>\n",
              "      <th>Count</th>\n",
              "    </tr>\n",
              "  </thead>\n",
              "  <tbody>\n",
              "    <tr>\n",
              "      <th>0</th>\n",
              "      <td>Surfing</td>\n",
              "      <td>NaN</td>\n",
              "      <td>971</td>\n",
              "    </tr>\n",
              "    <tr>\n",
              "      <th>1</th>\n",
              "      <td>Swimming</td>\n",
              "      <td>NaN</td>\n",
              "      <td>869</td>\n",
              "    </tr>\n",
              "    <tr>\n",
              "      <th>2</th>\n",
              "      <td>Fishing</td>\n",
              "      <td>NaN</td>\n",
              "      <td>431</td>\n",
              "    </tr>\n",
              "    <tr>\n",
              "      <th>3</th>\n",
              "      <td>Spearfishing</td>\n",
              "      <td>NaN</td>\n",
              "      <td>333</td>\n",
              "    </tr>\n",
              "  </tbody>\n",
              "</table>\n",
              "</div>\n",
              "      <button class=\"colab-df-convert\" onclick=\"convertToInteractive('df-2df7a69b-a6b6-48d5-8374-d2a6223be2c5')\"\n",
              "              title=\"Convert this dataframe to an interactive table.\"\n",
              "              style=\"display:none;\">\n",
              "        \n",
              "  <svg xmlns=\"http://www.w3.org/2000/svg\" height=\"24px\"viewBox=\"0 0 24 24\"\n",
              "       width=\"24px\">\n",
              "    <path d=\"M0 0h24v24H0V0z\" fill=\"none\"/>\n",
              "    <path d=\"M18.56 5.44l.94 2.06.94-2.06 2.06-.94-2.06-.94-.94-2.06-.94 2.06-2.06.94zm-11 1L8.5 8.5l.94-2.06 2.06-.94-2.06-.94L8.5 2.5l-.94 2.06-2.06.94zm10 10l.94 2.06.94-2.06 2.06-.94-2.06-.94-.94-2.06-.94 2.06-2.06.94z\"/><path d=\"M17.41 7.96l-1.37-1.37c-.4-.4-.92-.59-1.43-.59-.52 0-1.04.2-1.43.59L10.3 9.45l-7.72 7.72c-.78.78-.78 2.05 0 2.83L4 21.41c.39.39.9.59 1.41.59.51 0 1.02-.2 1.41-.59l7.78-7.78 2.81-2.81c.8-.78.8-2.07 0-2.86zM5.41 20L4 18.59l7.72-7.72 1.47 1.35L5.41 20z\"/>\n",
              "  </svg>\n",
              "      </button>\n",
              "      \n",
              "  <style>\n",
              "    .colab-df-container {\n",
              "      display:flex;\n",
              "      flex-wrap:wrap;\n",
              "      gap: 12px;\n",
              "    }\n",
              "\n",
              "    .colab-df-convert {\n",
              "      background-color: #E8F0FE;\n",
              "      border: none;\n",
              "      border-radius: 50%;\n",
              "      cursor: pointer;\n",
              "      display: none;\n",
              "      fill: #1967D2;\n",
              "      height: 32px;\n",
              "      padding: 0 0 0 0;\n",
              "      width: 32px;\n",
              "    }\n",
              "\n",
              "    .colab-df-convert:hover {\n",
              "      background-color: #E2EBFA;\n",
              "      box-shadow: 0px 1px 2px rgba(60, 64, 67, 0.3), 0px 1px 3px 1px rgba(60, 64, 67, 0.15);\n",
              "      fill: #174EA6;\n",
              "    }\n",
              "\n",
              "    [theme=dark] .colab-df-convert {\n",
              "      background-color: #3B4455;\n",
              "      fill: #D2E3FC;\n",
              "    }\n",
              "\n",
              "    [theme=dark] .colab-df-convert:hover {\n",
              "      background-color: #434B5C;\n",
              "      box-shadow: 0px 1px 3px 1px rgba(0, 0, 0, 0.15);\n",
              "      filter: drop-shadow(0px 1px 2px rgba(0, 0, 0, 0.3));\n",
              "      fill: #FFFFFF;\n",
              "    }\n",
              "  </style>\n",
              "\n",
              "      <script>\n",
              "        const buttonEl =\n",
              "          document.querySelector('#df-2df7a69b-a6b6-48d5-8374-d2a6223be2c5 button.colab-df-convert');\n",
              "        buttonEl.style.display =\n",
              "          google.colab.kernel.accessAllowed ? 'block' : 'none';\n",
              "\n",
              "        async function convertToInteractive(key) {\n",
              "          const element = document.querySelector('#df-2df7a69b-a6b6-48d5-8374-d2a6223be2c5');\n",
              "          const dataTable =\n",
              "            await google.colab.kernel.invokeFunction('convertToInteractive',\n",
              "                                                     [key], {});\n",
              "          if (!dataTable) return;\n",
              "\n",
              "          const docLinkHtml = 'Like what you see? Visit the ' +\n",
              "            '<a target=\"_blank\" href=https://colab.research.google.com/notebooks/data_table.ipynb>data table notebook</a>'\n",
              "            + ' to learn more about interactive tables.';\n",
              "          element.innerHTML = '';\n",
              "          dataTable['output_type'] = 'display_data';\n",
              "          await google.colab.output.renderOutput(dataTable, element);\n",
              "          const docLink = document.createElement('div');\n",
              "          docLink.innerHTML = docLinkHtml;\n",
              "          element.appendChild(docLink);\n",
              "        }\n",
              "      </script>\n",
              "    </div>\n",
              "  </div>\n",
              "  "
            ]
          },
          "metadata": {},
          "execution_count": 294
        }
      ]
    },
    {
      "cell_type": "code",
      "source": [
        "numberofattacks4 = activitydf.iloc[:, 2]\n",
        "activity = activitydf.iloc[:, 0]\n",
        "\n",
        "plt.bar(activity, numberofattacks4)\n",
        "plt.ylabel('Number of attacks')\n",
        "plt.xlabel(\"Activity\")\n",
        "plt.title('Number of attacks per activity')\n",
        "plt.show()"
      ],
      "metadata": {
        "colab": {
          "base_uri": "https://localhost:8080/",
          "height": 295
        },
        "id": "Mu7kefcWS5Z9",
        "outputId": "9f6509aa-6e21-49a7-a3f7-360e2297d445"
      },
      "execution_count": 296,
      "outputs": [
        {
          "output_type": "display_data",
          "data": {
            "text/plain": [
              "<Figure size 432x288 with 1 Axes>"
            ],
            "image/png": "[encoded data removed]"
          },
          "metadata": {
            "needs_background": "light"
          }
        }
      ]
    },
    {
      "cell_type": "markdown",
      "source": [
        "conclusion: surfing and swimmming are the activities that people are doing most often when they are attacked by a shark </br>.\n",
        "\n",
        "The assumption was done here that the value that occurred most would give a reliable result to the question. The other answers are not a part of the visualation, since that would have taken a lot of replacing to get a good result. For instance: One of the answers was \"Fishing, attempted to take a netted shark\". I could have replaced that to \"Fishing\" but since there were many different answers given this would have taken a lot of time. This is also maybe not even necessary since the four activities above also occurred a total of 2.604 times. There are 6302 rows in the dataframe, so 40% of the dataframe is already represented in the visualisation. "
      ],
      "metadata": {
        "id": "16rVX4pqjkFr"
      }
    }
  ]
}